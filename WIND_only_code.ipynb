{
  "cells": [
    {
      "cell_type": "markdown",
      "metadata": {
        "id": "view-in-github",
        "colab_type": "text"
      },
      "source": [
        "<a href=\"https://colab.research.google.com/github/MStamirski/Wind-prediction/blob/main/WIND_only_code.ipynb\" target=\"_parent\"><img src=\"https://colab.research.google.com/assets/colab-badge.svg\" alt=\"Open In Colab\"/></a>"
      ]
    },
    {
      "cell_type": "markdown",
      "metadata": {
        "id": "J1LqU6HUYEP7"
      },
      "source": [
        "# Introduction"
      ]
    },
    {
      "cell_type": "markdown",
      "metadata": {
        "id": "xJxB5RknYioK"
      },
      "source": [
        "This notebook contains a program, which predicts a speed and direction of wind in location selected by user.\n",
        "\n",
        "It is based on data provided on the website https://map.neweuropeanwindatlas.eu/\n",
        "Program downloads data from area around chosen coordinates. These data consist of wind speed (in m/s) and direction (in degrees) in nodes of gride, distant from each other by 3 kilometers.\n",
        "\n",
        "Four periods of prediction are assumed: 1.5 hour, 3 hours, 6 hours and 12 hours.\n",
        "For each of them a separate algorithm was developped. \n",
        "\n",
        "In 1.5 and 3 hours prediction, calculations use matrix of 9x9 nodes (with chosen location placed in the middle), and MLPRegressor model of neural network.\n",
        "\n",
        "In 6 hours prediction, calculations use the matrix of 15x15 nodes and Sequential model of neural network.\n",
        "\n",
        "In 12 hours prediction, calculations use also matrix 15x15 and neural network model with convolutional layer.\n",
        "\n",
        "All hyperparameters were optimized for each model and prediction period separately.\n",
        "\n",
        "User can chose years from which traning and testing data are collected (both from range 1989-2018).\n",
        "\n",
        "As a result program shows MAE and MAPE metrics, calculated for predictions as well as for baseline model, which gives data from a day of prediction as a prediction. The negative difference between metrics of these two models signifies, that predictions are valuable.\n",
        "\n",
        "Comparisons are also showed on diagrams and animations."
      ]
    },
    {
      "cell_type": "markdown",
      "metadata": {
        "id": "t-5ou88HYQD7"
      },
      "source": [
        "# Functions for loading data"
      ]
    },
    {
      "cell_type": "code",
      "execution_count": null,
      "metadata": {
        "id": "z4ANSLfVYaHq"
      },
      "outputs": [],
      "source": [
        "import xarray as xr\n",
        "import pandas as pd\n",
        "import numpy as np\n",
        "import math\n",
        "import urllib"
      ]
    },
    {
      "cell_type": "code",
      "execution_count": null,
      "metadata": {
        "id": "iRp3txpyZX2j"
      },
      "outputs": [],
      "source": [
        "def get_wind_data(center_lat, \n",
        "                  center_lon, \n",
        "                  area_radius_km,\n",
        "                  year,\n",
        "                  header):\n",
        "  \n",
        "  print(header)\n",
        "\n",
        "  variable1 = 'WD10'  # wind direction\n",
        "  variable2 = 'WS10'  # wind speed\n",
        "\n",
        "  # The approximate conversions are: Latitude: 1 deg = 110.574 km. Longitude: 1 deg = 111.320*cos(latitude) km.\n",
        "  # area height in degrees:\n",
        "  ver_radius_deg = area_radius_km / 110.574\n",
        "  # area width in degrees:\n",
        "  hor_radius_deg = area_radius_km / (111.320 * math.cos(np.radians(center_lat)))\n",
        "\n",
        "  southBoundLatitude = center_lat - ver_radius_deg\n",
        "  northBoundLatitude = center_lat + ver_radius_deg\n",
        "  westBoundLongitude = center_lon - hor_radius_deg\n",
        "  eastBoundLongitude = center_lon + hor_radius_deg\n",
        "\n",
        "  dt_start = str(year) + '-01-01T00:00:00'\n",
        "  dt_stop = str(year) + '-12-31T23:30:00'\n",
        "\n",
        "  url = 'https://wps.neweuropeanwindatlas.eu/api/mesoscale-ts/v1/get-data-bbox'\n",
        "  url += '?southBoundLatitude=' + str(southBoundLatitude)\n",
        "  url += '&northBoundLatitude=' + str(northBoundLatitude)\n",
        "  url += '&westBoundLongitude=' + str(westBoundLongitude)\n",
        "  url += '&eastBoundLongitude=' + str(eastBoundLongitude)\n",
        "  url += '&variable=' + str(variable1)\n",
        "  url += '&variable=' + str(variable2)\n",
        "  url += '&dt_start=' + dt_start\n",
        "  url += '&dt_stop=' + dt_stop\n",
        "  \n",
        "  data = urllib.request.urlopen(url).read()\n",
        "\n",
        "  df = xr.open_dataset(data).to_dataframe()\n",
        "\n",
        "  print(\"\\nDone ! --------------------------------\\n\")\n",
        "\n",
        "  return df"
      ]
    },
    {
      "cell_type": "markdown",
      "metadata": {
        "id": "XGH49nh3jCQG"
      },
      "source": [
        "# Functions for data preprocessing"
      ]
    },
    {
      "cell_type": "code",
      "execution_count": null,
      "metadata": {
        "id": "0hrW6aN1mTpN"
      },
      "outputs": [],
      "source": [
        "import time"
      ]
    },
    {
      "cell_type": "code",
      "execution_count": null,
      "metadata": {
        "id": "uH_XABlFi43t"
      },
      "outputs": [],
      "source": [
        "def columns_preparation(data):\n",
        "  data.reset_index(inplace=True)\n",
        "  data.drop(columns=['south_north', 'west_east', 'crs'], inplace=True)\n",
        "  data.fillna(0, inplace=True)"
      ]
    },
    {
      "cell_type": "code",
      "execution_count": null,
      "metadata": {
        "id": "tGZXcx45jQxU"
      },
      "outputs": [],
      "source": [
        "def nodes_preparation(data):\n",
        "  first_data = data.loc[0, 'time']\n",
        "  nodes=data[data['time']==first_data][['XLAT', 'XLON']].sort_values(by=['XLAT','XLON']).reset_index(drop=True)\n",
        "  nodes['node_nr'] = nodes.index\n",
        "  return nodes"
      ]
    },
    {
      "cell_type": "code",
      "execution_count": null,
      "metadata": {
        "id": "N_8_STj1jTF0"
      },
      "outputs": [],
      "source": [
        "def nodes_to_matrix(nodes):\n",
        "  matrix = []\n",
        "  nodes_set = nodes.copy()            # nodes not chosen to matrix yet\n",
        "  \n",
        "  while len(nodes_set)>0:\n",
        "    row = []\n",
        "    nodes_subset = nodes_set.copy()   # nodes searched for current row\n",
        "\n",
        "    while len(nodes_subset)>0:\n",
        "      node = nodes_subset[nodes_subset['XLAT']==nodes_subset['XLAT'].min()]\n",
        "      row.append(node['node_nr'].values[0])\n",
        "\n",
        "      nodes_subset = nodes_subset[nodes_subset['XLON']>node['XLON'].values[0]]\n",
        "      nodes_set.drop(index=node.index, inplace=True)\n",
        "    \n",
        "    matrix.append(row)\n",
        "  \n",
        "  return matrix"
      ]
    },
    {
      "cell_type": "code",
      "execution_count": null,
      "metadata": {
        "id": "QY1SNrVbjVy1"
      },
      "outputs": [],
      "source": [
        "def coord_to_nodes(nodes):\n",
        "  nodes_dict = {}\n",
        "  for ind in nodes.index:\n",
        "    nodes_dict[(nodes.loc[ind,'XLAT'], nodes.loc[ind,'XLON'])] = nodes.loc[ind,'node_nr']\n",
        "  return nodes_dict"
      ]
    },
    {
      "cell_type": "code",
      "execution_count": null,
      "metadata": {
        "id": "oOVEqEEbl-UO"
      },
      "outputs": [],
      "source": [
        "def get_node_pos(matrix, coord_to_nodes, xlat, xlon):\n",
        "  node_nr = coord_to_nodes[(xlat, xlon)]\n",
        "  array = np.array(matrix)\n",
        "  row, col = np.where(array==node_nr)\n",
        "  return node_nr, row[0], col[0]"
      ]
    },
    {
      "cell_type": "code",
      "execution_count": null,
      "metadata": {
        "id": "-olc2uInmE7d"
      },
      "outputs": [],
      "source": [
        "def data_with_nodes_matrix(dataset, matrix, coord):\n",
        "  start = mlsec = time.time()\n",
        "  data = dataset.copy().sort_values(by=['time'])\n",
        "\n",
        "  xlat_list = data['XLAT'].tolist()\n",
        "  xlon_list = data['XLON'].tolist()\n",
        "\n",
        "  node_nr_list = []\n",
        "  node_row_list = []\n",
        "  node_col_list = []\n",
        "\n",
        "  for ind in range(len(data)):\n",
        "    xlat = xlat_list[ind]\n",
        "    xlon = xlon_list[ind]\n",
        "    nr, row, col = get_node_pos(matrix, coord, xlat, xlon)\n",
        "    node_nr_list.append(nr)\n",
        "    node_row_list.append(row)\n",
        "    node_col_list.append(col)\n",
        "\n",
        "    if ind % 10000 == 0:\n",
        "      print(f\"\\rindex: {ind+1} of {len(data)}, time of step: {time.time()-mlsec}, total time: {time.time()-start}\", end=\"\")\n",
        "      mlsec = time.time()\n",
        "  \n",
        "  data['node_nr'] = node_nr_list\n",
        "  data['node_row'] = node_row_list\n",
        "  data['node_col'] = node_col_list\n",
        "  data.drop(columns=['XLAT', 'XLON'], inplace=True)\n",
        "\n",
        "  print(f\"\\nAdding columns from lists, time of step: {time.time()-mlsec}, total time: {time.time()-start}\")\n",
        "  return data"
      ]
    },
    {
      "cell_type": "code",
      "execution_count": null,
      "metadata": {
        "id": "5cnKZ1TSmdK-"
      },
      "outputs": [],
      "source": [
        "def prepare_dataframe(df, header):\n",
        "  print(header)\n",
        "  print(\"Source dataset shape: \", df.shape)\n",
        "  columns_preparation(df)\n",
        "  nodes = nodes_preparation(df)\n",
        "  matrix = nodes_to_matrix(nodes)\n",
        "  print(f\"Grid of nodes - rows: {len(matrix)}, columns: {len(matrix[0])}\")\n",
        "  coord = coord_to_nodes(nodes)\n",
        "  print(\"\\nInserting nodes coordinates\")\n",
        "  df = data_with_nodes_matrix(df, matrix, coord)\n",
        "  print(\"\\nDone ! --------------------------------\\n\")\n",
        "  return df"
      ]
    },
    {
      "cell_type": "markdown",
      "metadata": {
        "id": "8tIuy96_nSgW"
      },
      "source": [
        "# Functions for preparation of training and testing datasets"
      ]
    },
    {
      "cell_type": "code",
      "execution_count": null,
      "metadata": {
        "id": "-ihIxwyNoxIm"
      },
      "outputs": [],
      "source": [
        "import matplotlib.pyplot as plt"
      ]
    },
    {
      "cell_type": "code",
      "execution_count": null,
      "metadata": {
        "id": "2gjUdz4nnZFG"
      },
      "outputs": [],
      "source": [
        "def plot_training_nodes(df_prep, x_coord, center_coord):\n",
        "\n",
        "  X_col = [coord[1] for coord in x_coord]\n",
        "  X_row = [coord[0] for coord in x_coord]\n",
        "\n",
        "  maxrow = df_prep['node_row'].max()\n",
        "  maxcol = df_prep['node_col'].max()\n",
        "  all_row = []\n",
        "  all_col = []\n",
        "  for r in range(maxrow+1):\n",
        "    for c in range(maxcol+1):\n",
        "      all_col.append(c)\n",
        "      all_row.append(r)\n",
        "\n",
        "  plt.figure(figsize=(16, 6))\n",
        "  plt.title(\"Selected nodes\")\n",
        "  plt.xlabel(\"Columns\")\n",
        "  plt.ylabel(\"Rows\")\n",
        "  plt.grid(visible=True, which='major', axis='both')\n",
        "\n",
        "  all_nodes = plt.scatter(all_col, all_row, color='gray', s=80)\n",
        "  y_node = plt.scatter(center_coord[1], center_coord[0], color='blue', s=400)\n",
        "  x_nodes = plt.scatter(X_col, X_row, color='red', s=150)\n",
        "\n",
        "  node = df_prep[(df_prep['node_row']==center_coord[0]) & (df_prep['node_col']==center_coord[1])]['node_nr'].values[0]\n",
        "  plt.annotate(node, xy=(center_coord[1]+0.2, center_coord[0]-0.2))\n",
        "  for x in range(len(x_coord)):\n",
        "    node = df_prep[(df_prep['node_row']==x_coord[x][0]) & (df_prep['node_col']==x_coord[x][1])]['node_nr'].values[0]\n",
        "    plt.annotate(node, xy=(x_coord[x][1]+0.1, x_coord[x][0]+0.1))\n",
        "\n",
        "  plt.legend((all_nodes, x_nodes, y_node), ('unused nodes', 'X nodes', 'y node'), loc='upper left', shadow=True)\n",
        "  plt.show()"
      ]
    },
    {
      "cell_type": "code",
      "execution_count": null,
      "metadata": {
        "id": "V5wf7ZshnmKe"
      },
      "outputs": [],
      "source": [
        "def create_dataset(df_prep, center_coord, nodes_radius=4, internal_radius=0, pred_steps=1, show=False):\n",
        "  start = mlsec = time.time()\n",
        "\n",
        "  # area of nodes\n",
        "  bot_row = max(0, center_coord[0]-nodes_radius)\n",
        "  top_row = min(df_prep['node_row'].max(), center_coord[0]+nodes_radius)\n",
        "  left_col = max(0, center_coord[1]-nodes_radius)\n",
        "  right_col = min(df_prep['node_col'].max(), center_coord[1]+nodes_radius)\n",
        "\n",
        "  # list of tuples with nodes coordinates\n",
        "  x_coord = []\n",
        "  x_rows = [row for row in range(bot_row, top_row+1)]\n",
        "  x_cols = [col for col in range(left_col, right_col+1)]\n",
        "  for r in range(len(x_rows)):\n",
        "    for c in range(len(x_cols)):\n",
        "      if ((x_cols[c] < center_coord[1]+1-internal_radius) or (x_cols[c] > center_coord[1]-1+internal_radius)) or ((x_rows[r] < center_coord[0]+1-internal_radius) or (x_rows[r] > center_coord[0]-1+internal_radius)):\n",
        "        x_coord.append((x_rows[r], x_cols[c]))\n",
        " \n",
        "  if show: plot_training_nodes(df_prep, x_coord, center_coord)\n",
        "\n",
        "  x_nr = len(x_coord)\n",
        "\n",
        "  # lists of wind speed and direction for y\n",
        "  y_data = df_prep[(df_prep['node_row']==center_coord[0]) & (df_prep['node_col']==center_coord[1])].sort_values(by=['time'])\n",
        "  y_WS = y_data['WS10'].tolist()\n",
        "  y_WD = y_data['WD10'].tolist()\n",
        "\n",
        "  # lists of wind speed and direction for each x\n",
        "  xi_WS = []\n",
        "  xi_WD = []\n",
        "  for i in range(x_nr):\n",
        "    x_data = df_prep[(df_prep['node_row']==x_coord[i][0]) & (df_prep['node_col']==x_coord[i][1])].sort_values(by=['time'])\n",
        "    x_WS = x_data['WS10'].tolist()\n",
        "    x_WD = x_data['WD10'].tolist()\n",
        "    xi_WS.append(x_WS)\n",
        "    xi_WD.append(x_WD)\n",
        "\n",
        "  # creating dictionary of testing data\n",
        "  test_rows = []\n",
        "  rows_nr = len(y_WS)-pred_steps\n",
        "  for ind in range(rows_nr):\n",
        "    test_row = {}\n",
        "    test_row['y_WS'] = y_WS[ind+pred_steps]\n",
        "    test_row['y_WD_sin'] = math.sin(np.radians(y_WD[ind+pred_steps]))\n",
        "    test_row['y_WD_cos'] = math.cos(np.radians(y_WD[ind+pred_steps]))\n",
        "\n",
        "    for x in range(x_nr):\n",
        "      test_row['X'+str(x+1)+'_WS'] = xi_WS[x][ind]\n",
        "      test_row['X'+str(x+1)+'_WD_sin'] = math.sin(np.radians(xi_WD[x][ind]))\n",
        "      test_row['X'+str(x+1)+'_WD_cos'] = math.cos(np.radians(xi_WD[x][ind]))\n",
        "\n",
        "    if (ind % 1000 == 0):\n",
        "      print(f\"\\rindex: {ind+1} of {rows_nr}, time of step: {time.time()-mlsec}, total time: {time.time()-start}\", end=\"\")\n",
        "      mlsec = time.time()    \n",
        "    \n",
        "    test_rows.append(test_row)\n",
        "\n",
        "  df_test = pd.DataFrame.from_dict(test_rows)\n",
        "  print(f\"\\ncreating dataframe from dict, time of step: {time.time()-mlsec}, total time: {time.time()-start}\")\n",
        "\n",
        "  return df_test"
      ]
    },
    {
      "cell_type": "code",
      "execution_count": null,
      "metadata": {
        "id": "kQ0ZBMofnv3F"
      },
      "outputs": [],
      "source": [
        "def create_baseline_dataset(df_prep, center_coord, pred_steps):\n",
        "\n",
        "  # lists of wind speed and direction for y\n",
        "  y_data = df_prep[(df_prep['node_row']==center_coord[0]) & (df_prep['node_col']==center_coord[1])].sort_values(by=['time'])\n",
        "  y_WS = y_data['WS10'].tolist()\n",
        "  y_WD = y_data['WD10'].tolist()\n",
        "\n",
        "  # creating dictionary of testing data\n",
        "  test_rows = []\n",
        "  rows_nr = len(y_WS)-pred_steps\n",
        "  for ind in range(rows_nr):\n",
        "    test_row = {}\n",
        "    test_row['y_WS'] = y_WS[ind]\n",
        "    test_row['y_WD'] = y_WD[ind]\n",
        "     \n",
        "    test_rows.append(test_row)\n",
        "\n",
        "  df_base = pd.DataFrame.from_dict(test_rows)\n",
        "\n",
        "  return df_base"
      ]
    },
    {
      "cell_type": "code",
      "execution_count": null,
      "metadata": {
        "id": "wVYMT0TJoVnO"
      },
      "outputs": [],
      "source": [
        "def create_prediction_datasets(df_prep, y_node, header, baseline=False):\n",
        "  \n",
        "  print(header)\n",
        "\n",
        "  # size and shape of nodes matrix optimalized before\n",
        "  \n",
        "  print(\"\\nCreating prediction dataset: 1.5 hour ahead\")\n",
        "  df_1 = create_dataset(df_prep, y_node, nodes_radius=4, internal_radius=0, pred_steps=3, show=False)\n",
        "  print(\"\\nCreating prediction dataset: 3 hour ahead\")\n",
        "  df_3 = create_dataset(df_prep, y_node, nodes_radius=4, internal_radius=0, pred_steps=6, show=False)\n",
        "  print(\"\\nCreating prediction dataset: 6 hour ahead\")\n",
        "  df_6 = create_dataset(df_prep, y_node, nodes_radius=7, internal_radius=0, pred_steps=12, show=False)\n",
        "  print(\"\\nCreating prediction dataset: 12 hour ahead\")\n",
        "  df_12 = create_dataset(df_prep, y_node, nodes_radius=7, internal_radius=0, pred_steps=24, show=False)\n",
        "\n",
        "  # baseline only for testing datasets (not training)\n",
        "  if baseline:\n",
        "    print(\"\\nCreating baseline datasets\")\n",
        "    base_1 = create_baseline_dataset(df_prep, y_node, pred_steps=3)\n",
        "    base_3 = create_baseline_dataset(df_prep, y_node, pred_steps=6)\n",
        "    base_6 = create_baseline_dataset(df_prep, y_node, pred_steps=12)\n",
        "    base_12 = create_baseline_dataset(df_prep, y_node, pred_steps=24)\n",
        "\n",
        "  print(\"\\nDone ! --------------------------------\\n\")\n",
        "\n",
        "  if baseline: \n",
        "    return df_1, df_3, df_6, df_12, base_1, base_3, base_6, base_12\n",
        "  else:\n",
        "    return df_1, df_3, df_6, df_12"
      ]
    },
    {
      "cell_type": "markdown",
      "metadata": {
        "id": "xyO8f9bNwyRA"
      },
      "source": [
        "# Functions for predictions"
      ]
    },
    {
      "cell_type": "code",
      "execution_count": null,
      "metadata": {
        "id": "Ipa_sY-Cw364"
      },
      "outputs": [],
      "source": [
        "from sklearn.preprocessing import MinMaxScaler\n",
        "from sklearn.neural_network import MLPRegressor\n",
        "from keras import models\n",
        "from keras import layers\n",
        "from sklearn.metrics import mean_absolute_percentage_error\n",
        "from sklearn.metrics import mean_absolute_error"
      ]
    },
    {
      "cell_type": "code",
      "execution_count": null,
      "metadata": {
        "id": "6BQyTO1DxAV4"
      },
      "outputs": [],
      "source": [
        "def get_data(df, scaler):\n",
        "  \n",
        "  X = df[df.columns[3:]]\n",
        "  y = df[df.columns[:3]]\n",
        "\n",
        "  X_scaled = scaler.fit_transform(X)\n",
        "  y_scaled = scaler.fit_transform(y)\n",
        "\n",
        "  return X_scaled, y_scaled"
      ]
    },
    {
      "cell_type": "code",
      "execution_count": null,
      "metadata": {
        "id": "J_E5AxTkxIlA"
      },
      "outputs": [],
      "source": [
        "def get_baseline(df, scaler):\n",
        "  y_scaled = scaler.fit_transform(df)\n",
        "  return y_scaled"
      ]
    },
    {
      "cell_type": "code",
      "execution_count": null,
      "metadata": {
        "id": "R1tjMdZmxOTv"
      },
      "outputs": [],
      "source": [
        "def MAE_deg(y_true, y_pred):\n",
        "  count = 0\n",
        "  errsum = 0\n",
        "  for y1, y2 in zip(y_true, y_pred):\n",
        "    count += 1\n",
        "    ymax = np.where(y1>y2, y1, y2)\n",
        "    ymin = np.where(y1>y2, y2, y1)\n",
        "    err1 = ymax-ymin\n",
        "    err2 = ymin + (360-ymax)\n",
        "    errsum += min(err1, err2)\n",
        "  return errsum/count"
      ]
    },
    {
      "cell_type": "code",
      "execution_count": null,
      "metadata": {
        "id": "4-Xed9A4xUbf"
      },
      "outputs": [],
      "source": [
        "def MAPE_deg(y_true, y_pred):\n",
        "  perrsum = 0\n",
        "  for y1, y2 in zip(y_true, y_pred):\n",
        "    ymax = np.where(y1>y2, y1, y2)\n",
        "    ymin = np.where(y1>y2, y2, y1)\n",
        "    err1 = ymax-ymin\n",
        "    err2 = ymin + (360-ymax)\n",
        "    perr = (min(err1, err2) / 180) * 100\n",
        "    perrsum += perr\n",
        "  return perrsum / len(y_true)"
      ]
    },
    {
      "cell_type": "code",
      "execution_count": null,
      "metadata": {
        "id": "AuE_JiSmxr3T"
      },
      "outputs": [],
      "source": [
        "def make_prediction(model, scaler, X_test, y_test, scaler_base, y_base):\n",
        "\n",
        "  y_pred = model.predict(X_test)\n",
        "\n",
        "  y_pred_unscaled = scaler.inverse_transform(y_pred)\n",
        "  y_test_unscaled = scaler.inverse_transform(y_test)\n",
        "  y_base_unscaled = scaler_base.inverse_transform(y_base)\n",
        "\n",
        "  WS_pred_unscaled = [y[0] for y in y_pred_unscaled]\n",
        "  WS_test_unscaled = [y[0] for y in y_test_unscaled]\n",
        "  WS_base_unscaled = [y[0] for y in y_base_unscaled]\n",
        "\n",
        "  WS_pred_scaled = [3 * y[0] for y in y_pred]\n",
        "  WS_test_scaled = [3 * y[0] for y in y_test]\n",
        "  WS_base_scaled = [3 * y[0] for y in y_base]\n",
        "\n",
        "  WD_sin_pred_unscaled = [y[1] for y in y_pred_unscaled]\n",
        "  WD_cos_pred_unscaled = [y[2] for y in y_pred_unscaled]\n",
        "  WD_pred = [np.degrees(math.atan2(sincos[0], sincos[1])) for sincos in zip(WD_sin_pred_unscaled, WD_cos_pred_unscaled)]\n",
        "  for i in range(len(WD_pred)): \n",
        "    if WD_pred[i]<=0: WD_pred[i] += 360\n",
        "\n",
        "  WD_sin_test_unscaled = [y[1] for y in y_test_unscaled]\n",
        "  WD_cos_test_unscaled = [y[2] for y in y_test_unscaled]\n",
        "  WD_test = [np.degrees(math.atan2(sincos[0], sincos[1])) for sincos in zip(WD_sin_test_unscaled, WD_cos_test_unscaled)]\n",
        "  for i in range(len(WD_test)): \n",
        "    if WD_test[i]<=0: WD_test[i] += 360\n",
        "\n",
        "  WD_base = [y[1] for y in y_base_unscaled]\n",
        "\n",
        "  return WS_pred_unscaled, WS_test_unscaled, WS_base_unscaled, WS_pred_scaled, WS_test_scaled, WS_base_scaled, WD_pred, WD_test, WD_base"
      ]
    },
    {
      "cell_type": "code",
      "execution_count": null,
      "metadata": {
        "id": "W02y5ZXzy5uZ"
      },
      "outputs": [],
      "source": [
        "def predictions_1p5_h(df_train, df_test, base, title=\"1.5 hours prediction\"):\n",
        "  scaler = MinMaxScaler()\n",
        "  scaler_base = MinMaxScaler()\n",
        "\n",
        "  X_train, y_train = get_data(df_train, scaler) \n",
        "  X_test, y_test = get_data(df_test, scaler)\n",
        "  y_base = get_baseline(base, scaler_base)\n",
        "\n",
        "  # hiperparameters: results of optimization\n",
        "  model = MLPRegressor(\n",
        "          hidden_layer_sizes=(81),   \n",
        "          activation='relu',\n",
        "          solver='adam',\n",
        "          random_state=42,\n",
        "          max_iter=100,\n",
        "          batch_size=48)\n",
        "\n",
        "  print(\"\\n================= \" + title + \" ========================\")\n",
        "\n",
        "  print(\"Model training...\")\n",
        "  model.fit(X_train, y_train)\n",
        "\n",
        "  print(\"Model testing...\")\n",
        "  WS_pred_unscaled, WS_test_unscaled, WS_base_unscaled, WS_pred_scaled, WS_test_scaled, WS_base_scaled, WD_pred, WD_test, WD_base = make_prediction(model, scaler, X_test, y_test, scaler_base, y_base)\n",
        "  print(\"Done ! --------------------------------\\n\")\n",
        "\n",
        "  return WS_pred_unscaled, WS_test_unscaled, WS_base_unscaled, WS_pred_scaled, WS_test_scaled, WS_base_scaled, WD_pred, WD_test, WD_base\n"
      ]
    },
    {
      "cell_type": "code",
      "execution_count": null,
      "metadata": {
        "id": "chzmMsSr5JaB"
      },
      "outputs": [],
      "source": [
        "def predictions_3_h(df_train, df_test, base, title=\"3 hours prediction\"):\n",
        "  scaler = MinMaxScaler()\n",
        "  scaler_base = MinMaxScaler()\n",
        "\n",
        "  X_train, y_train = get_data(df_train, scaler) \n",
        "  X_test, y_test = get_data(df_test, scaler)\n",
        "  y_base = get_baseline(base, scaler_base)\n",
        "\n",
        "  # model with hiperparameters: result of selection\n",
        "  model = MLPRegressor(\n",
        "          hidden_layer_sizes=(81, 8),   \n",
        "          activation='relu',\n",
        "          solver='adam',\n",
        "          random_state=42,\n",
        "          max_iter=100,\n",
        "          batch_size=48)\n",
        "\n",
        "  print(\"\\n================= \" + title + \" ========================\")\n",
        "\n",
        "  print(\"Model training...\")\n",
        "  model.fit(X_train, y_train)\n",
        "\n",
        "  print(\"Model testing...\")\n",
        "  WS_pred_unscaled, WS_test_unscaled, WS_base_unscaled, WS_pred_scaled, WS_test_scaled, WS_base_scaled, WD_pred, WD_test, WD_base = make_prediction(model, scaler, X_test, y_test, scaler_base, y_base)\n",
        "  print(\"Done ! --------------------------------\\n\")\n",
        "\n",
        "  return WS_pred_unscaled, WS_test_unscaled, WS_base_unscaled, WS_pred_scaled, WS_test_scaled, WS_base_scaled, WD_pred, WD_test, WD_base"
      ]
    },
    {
      "cell_type": "code",
      "execution_count": null,
      "metadata": {
        "id": "fPI7DWJu5iHi"
      },
      "outputs": [],
      "source": [
        "def predictions_6_h(df_train, df_test, base, title=\"6 hours prediction\"):\n",
        "  scaler = MinMaxScaler()\n",
        "  scaler_base = MinMaxScaler()\n",
        "\n",
        "  X_train, y_train = get_data(df_train, scaler) \n",
        "  X_test, y_test = get_data(df_test, scaler)\n",
        "  y_base = get_baseline(base, scaler_base)\n",
        "\n",
        "  # model with hiperparameters: result of selection\n",
        "  model = models.Sequential()\n",
        "  model.add(layers.Dense(255, activation='relu', input_shape=(225*3,)))\n",
        "  model.add(layers.Dense(24, activation='relu'))\n",
        "  model.add(layers.Dense(3))\n",
        "  model.compile(optimizer='Adam', loss='mean_absolute_error', metrics='mean_absolute_error')\n",
        "\n",
        "  print(\"\\n================= \" + title + \" ========================\")\n",
        "  \n",
        "  print(\"Model training...\")\n",
        "  model.fit(X_train, y_train, \n",
        "            epochs=100,\n",
        "            batch_size=48*90,\n",
        "            validation_data=(X_test, y_test),\n",
        "            verbose=0)\n",
        "\n",
        "  print(\"Model testing...\")\n",
        "  WS_pred_unscaled, WS_test_unscaled, WS_base_unscaled, WS_pred_scaled, WS_test_scaled, WS_base_scaled, WD_pred, WD_test, WD_base = make_prediction(model, scaler, X_test, y_test, scaler_base, y_base)\n",
        "  print(\"Done ! --------------------------------\\n\")\n",
        "\n",
        "  return WS_pred_unscaled, WS_test_unscaled, WS_base_unscaled, WS_pred_scaled, WS_test_scaled, WS_base_scaled, WD_pred, WD_test, WD_base"
      ]
    },
    {
      "cell_type": "code",
      "execution_count": null,
      "metadata": {
        "id": "_ic-xVYa6V7i"
      },
      "outputs": [],
      "source": [
        "def predictions_12_h(df_train, df_test, base, title=\"12 hours prediction\"):\n",
        "  scaler = MinMaxScaler()\n",
        "  scaler_base = MinMaxScaler()\n",
        "\n",
        "  X_train, y_train = get_data(df_train, scaler) \n",
        "  X_test, y_test = get_data(df_test, scaler)\n",
        "  y_base = get_baseline(base, scaler_base)\n",
        "\n",
        "  # model with hiperparameters: result of selection\n",
        "\n",
        "  size = int(math.sqrt(X_train.shape[1]/3)) # 3 data for each node of square matrix\n",
        "\n",
        "  X_train = X_train.reshape(X_train.shape[0], size, size, 3)\n",
        "  X_test = X_test.reshape(X_test.shape[0], size, size, 3)\n",
        "  \n",
        "  model = models.Sequential()\n",
        "  model.add(layers.Conv2D(32, (3, 3), activation='relu', kernel_initializer='he_uniform', padding='same', input_shape=(size, size, 3)))\n",
        "  model.add(layers.Flatten())\n",
        "  model.add(layers.Dense(126, activation='relu', kernel_initializer='he_uniform'))\n",
        "  model.add(layers.Dense(3))\n",
        "\n",
        "  model.compile(optimizer='Adam', loss='mean_absolute_error', metrics='mean_absolute_error')\n",
        "\n",
        "  print(\"\\n================= \" + title + \" ========================\")\n",
        "  \n",
        "  print(\"Model training...\")\n",
        "  model.fit(X_train, y_train, \n",
        "            epochs=60,\n",
        "            batch_size=48*60,\n",
        "            validation_data=(X_test, y_test),\n",
        "            verbose=0)\n",
        "\n",
        "  print(\"Model testing...\")\n",
        "  WS_pred_unscaled, WS_test_unscaled, WS_base_unscaled, WS_pred_scaled, WS_test_scaled, WS_base_scaled, WD_pred, WD_test, WD_base = make_prediction(model, scaler, X_test, y_test, scaler_base, y_base)\n",
        "  print(\"Done ! --------------------------------\\n\")\n",
        "\n",
        "  return WS_pred_unscaled, WS_test_unscaled, WS_base_unscaled, WS_pred_scaled, WS_test_scaled, WS_base_scaled, WD_pred, WD_test, WD_base"
      ]
    },
    {
      "cell_type": "markdown",
      "metadata": {
        "id": "Nt8jn1em71yE"
      },
      "source": [
        "# Functions for results displaying"
      ]
    },
    {
      "cell_type": "code",
      "execution_count": null,
      "metadata": {
        "id": "01y6HB_48qmK"
      },
      "outputs": [],
      "source": [
        "from IPython.display import display\n",
        "from ipywidgets import GridspecLayout, Output, Tab, Dropdown, FloatSlider, Button, HTML, Layout\n",
        "\n",
        "from datetime import datetime, timedelta\n",
        "from matplotlib.animation import FuncAnimation\n",
        "from matplotlib.animation import writers\n",
        "from matplotlib import rc\n",
        "rc('animation', html='jshtml')"
      ]
    },
    {
      "cell_type": "code",
      "execution_count": null,
      "metadata": {
        "id": "ilYLb0jd8A7q"
      },
      "outputs": [],
      "source": [
        "def show_results(WS_pred_unscaled, WS_test_unscaled, WS_base_unscaled, WS_pred_scaled, WS_test_scaled, WS_base_scaled, WD_pred, WD_test, WD_base):\n",
        "\n",
        "  print(\"\\r----------------- TEST DATA -----------------------------------------------\", end=\"\")\n",
        "  print(f\"\\nWIND SPEED         (m/s) - Min: {round(min(WS_test_unscaled),4)}, Max: {round(max(WS_test_unscaled),4)}, Mean: {round(sum(WS_test_unscaled)/len(WS_test_unscaled),4)}\")\n",
        "  print(f\"WIND DIRECTION     (deg) - Min: {round(min(WD_test),4)}, Max: {round(max(WD_test),4)}, Mean: {round(sum(WD_test)/len(WD_test),4)}\")\n",
        "\n",
        "  print(\"\\n----------------- UNSCALED WIND SPEED METRICS -----------------------------\")\n",
        "  print(f\"MAE OF PREDICTION  (m/s) : {round(mean_absolute_error(WS_test_unscaled, WS_pred_unscaled),4)}\")\n",
        "  print(f\"MAE OF BASELINE    (m/s) : {round(mean_absolute_error(WS_test_unscaled, WS_base_unscaled),4)}\")\n",
        "  print(f\"MAPE OF PREDICTION (%)   : {round(mean_absolute_percentage_error(WS_test_unscaled, WS_pred_unscaled),4)}\")\n",
        "  print(f\"MAPE OF BASELINE   (%)   : {round(mean_absolute_percentage_error(WS_test_unscaled, WS_base_unscaled),4)}\")\n",
        "\n",
        "  print(\"\\n----------------- UNSCALED WIND DIRECTION METRICS --------------------------\")\n",
        "  print(f\"MAE OF PREDICTION  (deg) : {round(MAE_deg(WD_test, WD_pred),4)}\")\n",
        "  print(f\"MAE OF BASELINE    (deg) : {round(MAE_deg(WD_test, WD_base),4)}\")\n",
        "  print(f\"MAPE OF PREDICTION (%)   : {round(MAPE_deg(WD_test, WD_pred),4)}\")\n",
        "  print(f\"MAPE OF BASELINE   (%)   : {round(MAPE_deg(WD_test, WD_base),4)}\")"
      ]
    },
    {
      "cell_type": "code",
      "execution_count": null,
      "metadata": {
        "id": "LORnBRsp8H-C"
      },
      "outputs": [],
      "source": [
        "def show_winds(length_list_test, angles_list_test, length_list_pred, angles_list_pred, interval=20, title=\"Winds comparison\"):\n",
        "\n",
        "  circle_ray = max(max(length_list_test), max(length_list_pred))+0.5\n",
        "  circle_angles = [np.radians(angle_deg) for angle_deg in range(360)]\n",
        "  x_circle_list = [circle_ray * math.sin(angle) for angle in circle_angles]\n",
        "  y_circle_list = [circle_ray * math.cos(angle) for angle in circle_angles]\n",
        "  circle_color = 'blue'\n",
        "  circle_width = 2\n",
        "\n",
        "  fig_range=(-circle_ray-1.5, circle_ray+1.5)\n",
        "\n",
        "  arrow_width_t = 2\n",
        "  arrow_color_t = 'red'\n",
        "  arrow_alpha_t = 1\n",
        "  arrowhead_par_t = {'width': arrow_width_t,\n",
        "                    'headwidth': arrow_width_t + 4,\n",
        "                    'headlength': 10,\n",
        "                     'color': arrow_color_t,\n",
        "                     'alpha': arrow_alpha_t}\n",
        "  \n",
        "  arrow_width_p = 10\n",
        "  arrow_color_p = 'green'\n",
        "  arrow_alpha_p = 0.4\n",
        "  arrowhead_par_p = {'width': arrow_width_p,\n",
        "                    'headwidth': arrow_width_p + 4,\n",
        "                    'headlength': 10,\n",
        "                     'color': arrow_color_p,\n",
        "                     'alpha': arrow_alpha_p}\n",
        "\n",
        "  fig, ax = plt.subplots(figsize=(6, 6))\n",
        "  plt.axis('off')\n",
        "  ax.set_title(title)\n",
        "\n",
        "  ax.set_xlim(fig_range)\n",
        "  ax.set_ylim(fig_range)\n",
        "\n",
        "  ax.scatter(x_circle_list, y_circle_list, s=circle_width, color=circle_color)\n",
        "\n",
        "  ax.plot([0,0], [circle_ray, circle_ray+0.2], color=circle_color)\n",
        "  ax.text(-0.2, circle_ray+0.4, 'N', color=circle_color, fontsize=16)\n",
        "\n",
        "  ax.plot([0,0], [-circle_ray, -circle_ray-0.2], color=circle_color)\n",
        "  ax.text(-0.2, -circle_ray-0.8, 'S', color=circle_color, fontsize=16)\n",
        "\n",
        "  ax.plot([-circle_ray, -circle_ray-0.2], [0,0], color=circle_color)\n",
        "  ax.text(-circle_ray-0.8, -0.2, 'W',color=circle_color, fontsize=16)\n",
        "\n",
        "  ax.plot([circle_ray, circle_ray+0.2], [0,0], color=circle_color)\n",
        "  ax.text(circle_ray+0.3, -0.2, 'E', color=circle_color, fontsize=16)\n",
        "\n",
        "  arrow_p, = ax.plot([0,0], [0,0], lw=arrow_width_p, color=arrow_color_p, alpha=arrow_alpha_p)\n",
        "  arrow_p.set_label(\"predicted data\")\n",
        "  arrowhead_p = ax.annotate('', xytext=(0,0), xy=(0,0), arrowprops=arrowhead_par_p)\n",
        "\n",
        "  arrow_t, = ax.plot([0,0], [0,0], lw=arrow_width_t, color=arrow_color_t, alpha=arrow_alpha_t)\n",
        "  arrow_t.set_label(\"test data\")\n",
        "  arrowhead_t = ax.annotate('', xytext=(0,0), xy=(0,0), arrowprops=arrowhead_par_t)\n",
        "  \n",
        "  plt.legend()\n",
        "\n",
        "  def plot_winds(i):\n",
        "  \n",
        "    x_p = length_list_pred[i] * math.sin(np.radians(angles_list_pred[i]))\n",
        "    y_p = length_list_pred[i] * math.cos(np.radians(angles_list_pred[i]))\n",
        "    x_head_p = (length_list_pred[i] + 0.3) * math.sin(np.radians(angles_list_pred[i]))\n",
        "    y_head_p = (length_list_pred[i] + 0.3) * math.cos(np.radians(angles_list_pred[i]))\n",
        "\n",
        "    arrow_p.set_data([0, x_p], [0, y_p])\n",
        "\n",
        "    arrowhead_p.set_position((x_p, y_p))\n",
        "    arrowhead_p.xy = (x_head_p, y_head_p)\n",
        "\n",
        "    x_t = length_list_test[i] * math.sin(np.radians(angles_list_test[i]))\n",
        "    y_t = length_list_test[i] * math.cos(np.radians(angles_list_test[i]))\n",
        "    x_head_t = (length_list_test[i] + 0.3) * math.sin(np.radians(angles_list_test[i]))\n",
        "    y_head_t = (length_list_test[i] + 0.3) * math.cos(np.radians(angles_list_test[i]))\n",
        "\n",
        "    arrow_t.set_data([0, x_t], [0, y_t])\n",
        "\n",
        "    arrowhead_t.set_position((x_t, y_t))\n",
        "    arrowhead_t.xy = (x_head_t, y_head_t)\n",
        "\n",
        "    return arrow_t, arrowhead_t, arrow_p, arrowhead_p\n",
        "\n",
        "  # frames = min(len(length_list_test), len(length_list_pred))\n",
        "  frames = 7*48  # only 1 week\n",
        "  wind_animation = FuncAnimation(fig, plot_winds, frames=frames, interval=interval, blit=True)\n",
        "  plt.close()\n",
        "\n",
        "  return wind_animation"
      ]
    },
    {
      "cell_type": "code",
      "execution_count": null,
      "metadata": {
        "id": "ANRDoC10_zQd"
      },
      "outputs": [],
      "source": [
        "def plot_wind_speed(year, WS_pred, WS_test, WS_base, pred_steps):\n",
        "\n",
        "  start_hour = datetime.strptime(str(year)+\"-01-01 0:00\", '%Y-%m-%d %H:%M')+timedelta(minutes=pred_steps*30)\n",
        "  datetimes = pd.date_range(start_hour.strftime('%Y-%m-%d %H:%M'), str(year)+\"-12-31 23:30\", freq=\"30min\")\n",
        "\n",
        "  # only 1 week\n",
        "  plt.figure(figsize=(18, 5))\n",
        "  plt.plot(datetimes[:7*48], WS_pred[:7*48], color='green', linewidth=1)\n",
        "  plt.plot(datetimes[:7*48], WS_test[:7*48], color='red', linewidth=1)\n",
        "  plt.plot(datetimes[:7*48], WS_base[:7*48], color='black', linewidth=1)\n",
        "  plt.xlim(datetimes[:7*48].min(), datetimes[:7*48].max())\n",
        "  plt.title('WIND SPEED')\n",
        "  plt.ylabel('[m/s]')\n",
        "  plt.xlabel('time')\n",
        "  plt.legend(['prediction', 'test data', 'baseline'], loc='upper left')\n",
        "  plt.show()"
      ]
    },
    {
      "cell_type": "code",
      "execution_count": null,
      "metadata": {
        "id": "0JD0HmMSNChX"
      },
      "outputs": [],
      "source": [
        "def plot_wind_direction(year, WD_pred, WD_test, WD_base, pred_steps):\n",
        "\n",
        "  start_hour = datetime.strptime(str(year)+\"-01-01 0:00\", '%Y-%m-%d %H:%M')+timedelta(minutes=pred_steps*30)\n",
        "  datetimes = pd.date_range(start_hour.strftime('%Y-%m-%d %H:%M'), str(year)+\"-12-31 23:30\", freq=\"30min\")\n",
        "\n",
        "  # only 1 week\n",
        "  plt.figure(figsize=(18, 5))\n",
        "  plt.plot(datetimes[:7*48], WD_pred[:7*48], color='green', linewidth=1)\n",
        "  plt.plot(datetimes[:7*48], WD_test[:7*48], color='red', linewidth=1)\n",
        "  plt.plot(datetimes[:7*48], WD_base[:7*48], color='black', linewidth=1)\n",
        "  plt.xlim(datetimes[:7*48].min(), datetimes[:7*48].max())\n",
        "  plt.title('WIND DIRECTION')\n",
        "  plt.ylabel('[deg]')\n",
        "  plt.xlabel('time')\n",
        "  plt.legend(['prediction', 'test data', 'baseline'], loc='upper left')\n",
        "  plt.show()"
      ]
    },
    {
      "cell_type": "code",
      "execution_count": null,
      "metadata": {
        "id": "9dDRbSAeZgSg"
      },
      "outputs": [],
      "source": [
        "def speed_test_dashboard(WS_test, style):\n",
        "  ws_min = str(round(min(WS_test),4))\n",
        "  ws_max = str(round(max(WS_test),4))\n",
        "  ws_avg = str(round(sum(WS_test)/len(WS_test),4))\n",
        "\n",
        "  html = style\n",
        "  html += '<table>'\n",
        "  html += '  <tr>'\n",
        "  html += '    <td>'\n",
        "  html += '      <p class=\"tit-gen\"> SPEED data </p>'\n",
        "  html += '    </td>'\n",
        "  html += '    <td>'\n",
        "  html += '      <p class=\"tit-up\"> Min </p>'\n",
        "  html += '    </td>'\n",
        "  html += '    <td>'\n",
        "  html += '      <p class=\"tit-up\"> Max </p>'\n",
        "  html += '    </td>'\n",
        "  html += '    <td>'\n",
        "  html += '      <p class=\"tit-up\"> Average </p>'\n",
        "  html += '    </td>'\n",
        "  html += '  </tr>'\n",
        "  html += '  <tr>'\n",
        "  html += '    <td>'\n",
        "  html += '      <p class=\"tit-left\"> Test dataset: </p>'\n",
        "  html += '    </td>'\n",
        "  html += '    <td>'\n",
        "  html += '      <p class=\"var\">'+ws_min+'</p>'\n",
        "  html += '    </td>'\n",
        "  html += '    <td>'\n",
        "  html += '      <p class=\"var\">'+ws_max+'</p>'\n",
        "  html += '    </td>'\n",
        "  html += '    <td>'\n",
        "  html += '      <p class=\"var\">'+ws_avg+'</p>'\n",
        "  html += '    </td>'\n",
        "  html += '  </tr>'\n",
        "  html += '</table>'\n",
        "  \n",
        "  return html"
      ]
    },
    {
      "cell_type": "code",
      "execution_count": null,
      "metadata": {
        "id": "Nv-We148cwNp"
      },
      "outputs": [],
      "source": [
        "def direction_test_dashboard(WD_test, style):\n",
        "  wd_min = str(round(min(WD_test),4))\n",
        "  wd_max = str(round(max(WD_test),4))\n",
        "  wd_avg = str(round(sum(WD_test)/len(WD_test),4))\n",
        "\n",
        "  html = style\n",
        "  html += '<table>'\n",
        "  html += '  <tr>'\n",
        "  html += '    <td>'\n",
        "  html += '      <p class=\"tit-gen\"> DIRECTION data </p>'\n",
        "  html += '    </td>'\n",
        "  html += '    <td>'\n",
        "  html += '      <p class=\"tit-up\"> Min </p>'\n",
        "  html += '    </td>'\n",
        "  html += '    <td>'\n",
        "  html += '      <p class=\"tit-up\"> Max </p>'\n",
        "  html += '    </td>'\n",
        "  html += '    <td>'\n",
        "  html += '      <p class=\"tit-up\"> Average </p>'\n",
        "  html += '    </td>'\n",
        "  html += '  </tr>'\n",
        "  html += '  <tr>'\n",
        "  html += '    <td>'\n",
        "  html += '      <p class=\"tit-left\"> Test dataset: </p>'\n",
        "  html += '    </td>'\n",
        "  html += '    <td>'\n",
        "  html += '      <p class=\"var\">'+wd_min+'</p>'\n",
        "  html += '    </td>'\n",
        "  html += '    <td>'\n",
        "  html += '      <p class=\"var\">'+wd_max+'</p>'\n",
        "  html += '    </td>'\n",
        "  html += '    <td>'\n",
        "  html += '      <p class=\"var\">'+wd_avg+'</p>'\n",
        "  html += '    </td>'\n",
        "  html += '  </tr>'\n",
        "  html += '</table>'\n",
        "  \n",
        "  return html"
      ]
    },
    {
      "cell_type": "code",
      "execution_count": null,
      "metadata": {
        "id": "ZwmkS0hTdFJJ"
      },
      "outputs": [],
      "source": [
        "def speed_prediction_dashboard(WS_test, WS_pred, WS_base, style):\n",
        "\n",
        "  mae_pred = round(mean_absolute_error(WS_test, WS_pred),4)\n",
        "  mae_base = round(mean_absolute_error(WS_test, WS_base),4)\n",
        "  mape_pred = round(mean_absolute_percentage_error(WS_test, WS_pred),4)\n",
        "  mape_base = round(mean_absolute_percentage_error(WS_test, WS_base),4)\n",
        "  \n",
        "  mae_pred_str = str(mae_pred)\n",
        "  mae_base_str = str(mae_base)\n",
        "  mape_pred_str = str(mape_pred)\n",
        "  mape_base_str = str(mape_base)\n",
        "\n",
        "  mae_dif_str = str(round(mae_pred-mae_base,4))\n",
        "  mape_dif_str = str(round(mape_pred-mape_base,4))\n",
        "\n",
        "  html = style\n",
        "  html += '<table>'\n",
        "  html += '  <tr>'\n",
        "  html += '    <td>'\n",
        "  html += '      <p class=\"tit-gen\"> SPEED Prediction </p>'\n",
        "  html += '    </td>'\n",
        "  html += '    <td>'\n",
        "  html += '      <p class=\"tit-up\"> Model </p>'\n",
        "  html += '    </td>'\n",
        "  html += '    <td>'\n",
        "  html += '      <p class=\"tit-up\"> Baseline </p>'\n",
        "  html += '    </td>'\n",
        "  html += '    <td>'\n",
        "  html += '      <p class=\"tit-up\"> Difference </p>'\n",
        "  html += '    </td>'\n",
        "  html += '  </tr>'\n",
        "  html += '  <tr>'\n",
        "  html += '    <td>'\n",
        "  html += '      <p class=\"tit-left\"> MAE: </p>'\n",
        "  html += '      <p class=\"tit-left\"> MAPE: </p>'\n",
        "  html += '    </td>'\n",
        "  html += '    <td>'\n",
        "  html += '      <p class=\"var\">'+mae_pred_str+'</p>'\n",
        "  html += '      <p class=\"var\">'+mape_pred_str+'</p>'\n",
        "  html += '    </td>'\n",
        "  html += '    <td>'\n",
        "  html += '      <p class=\"var\">'+mae_base_str+'</p>'\n",
        "  html += '      <p class=\"var\">'+mape_base_str+'</p>'\n",
        "  html += '    </td>'\n",
        "  html += '    <td>'\n",
        "  html += '      <p class=\"var\">'+mae_dif_str+'</p>'\n",
        "  html += '      <p class=\"var\">'+mape_dif_str+'</p>'\n",
        "  html += '    </td>'\n",
        "  html += '  </tr>'\n",
        "  html += '</table>'\n",
        "\n",
        "  return html"
      ]
    },
    {
      "cell_type": "code",
      "execution_count": null,
      "metadata": {
        "id": "NOe2CXtrgbia"
      },
      "outputs": [],
      "source": [
        "def direction_prediction_dashboard(WD_test, WD_pred, WD_base, style):\n",
        "\n",
        "  mae_pred = round(MAE_deg(WD_test, WD_pred),4)\n",
        "  mae_base = round(MAE_deg(WD_test, WD_base),4)\n",
        "  mape_pred = round(MAPE_deg(WD_test, WD_pred),4)\n",
        "  mape_base = round(MAPE_deg(WD_test, WD_base),4)\n",
        "\n",
        "  mae_pred_str = str(mae_pred)\n",
        "  mae_base_str = str(mae_base)\n",
        "  mape_pred_str = str(mape_pred)\n",
        "  mape_base_str = str(mape_base)\n",
        "\n",
        "  mae_dif_str = str(round(mae_pred-mae_base,4))\n",
        "  mape_dif_str = str(round(mape_pred-mape_base,4))\n",
        "\n",
        "  html = style\n",
        "  html += '<table>'\n",
        "  html += '  <tr>'\n",
        "  html += '    <td>'\n",
        "  html += '      <p class=\"tit-gen\"> DIREC. Prediction </p>'\n",
        "  html += '    </td>'\n",
        "  html += '    <td>'\n",
        "  html += '      <p class=\"tit-up\"> Model </p>'\n",
        "  html += '    </td>'\n",
        "  html += '    <td>'\n",
        "  html += '      <p class=\"tit-up\"> Baseline </p>'\n",
        "  html += '    </td>'\n",
        "  html += '    <td>'\n",
        "  html += '      <p class=\"tit-up\"> Difference </p>'\n",
        "  html += '    </td>'\n",
        "  html += '  </tr>'\n",
        "  html += '  <tr>'\n",
        "  html += '    <td>'\n",
        "  html += '      <p class=\"tit-left\"> MAE: </p>'\n",
        "  html += '      <p class=\"tit-left\"> MAPE: </p>'\n",
        "  html += '    </td>'\n",
        "  html += '    <td>'\n",
        "  html += '      <p class=\"var\">'+mae_pred_str+'</p>'\n",
        "  html += '      <p class=\"var\">'+mape_pred_str+'</p>'\n",
        "  html += '    </td>'\n",
        "  html += '    <td>'\n",
        "  html += '      <p class=\"var\">'+mae_base_str+'</p>'\n",
        "  html += '      <p class=\"var\">'+mape_base_str+'</p>'\n",
        "  html += '    </td>'\n",
        "  html += '    <td>'\n",
        "  html += '      <p class=\"var\">'+mae_dif_str+'</p>'\n",
        "  html += '      <p class=\"var\">'+mape_dif_str+'</p>'\n",
        "  html += '    </td>'\n",
        "  html += '  </tr>'\n",
        "  html += '</table>'\n",
        "\n",
        "  return html"
      ]
    },
    {
      "cell_type": "code",
      "execution_count": null,
      "metadata": {
        "id": "w5UZoFbAp_-r"
      },
      "outputs": [],
      "source": [
        "def show_dashboard(WS_pred_unscaled, WS_test_unscaled, WS_base_unscaled, WS_pred_scaled, WS_test_scaled, WS_base_scaled, WD_pred, WD_test, WD_base, test_year, pred_steps, title):\n",
        "  grid = GridspecLayout(30, 41)\n",
        "  \n",
        "  html = '<div style=\"font-size: 30px; font-weight: bold; color: black;\"><center>'+\"WIND PREDICTION RESULTS: \"+title+'</center></div>'\n",
        "  header = HTML(html)\n",
        "\n",
        "  html =  '<style>'\n",
        "  html += '  table {border-spacing: 10px; background-color: Silver; width: 100%; margin-bottom: 10px; border-left: 5px solid Gainsboro; border-top: 5px solid Gainsboro; border-right: 5px solid gray; border-bottom: 5px solid gray;}'\n",
        "  html += '  td {vertical-align: middle; background-color: Silver; width: 25%; text-align: center;}'\n",
        "  html += '  .tit-up {font-weight: bold; font-size: 15px; color: black; text-align: center;}'\n",
        "  html += '  .tit-left {font-weight: bold; font-size: 15px; color: black; text-align: left;}'\n",
        "  html += '  .tit-gen {font-weight: bold; font-size: 15px; color: blue; text-align: left;}'\n",
        "  html += '  .var {font-weight: bold; font-size: 15px; color: red; border-left: 1px solid gray; border-top: 1px solid gray; border-right: 1px solid Gainsboro; border-bottom: 1px solid Gainsboro}'\n",
        "  html += '</style>'\n",
        "  \n",
        "  style = html\n",
        "\n",
        "  html = speed_test_dashboard(WS_test_unscaled, style)\n",
        "  speed_test = HTML(html)\n",
        "\n",
        "  html = speed_prediction_dashboard(WS_test_unscaled, WS_pred_unscaled, WS_base_unscaled, style)\n",
        "  speed_pred = HTML(html)\n",
        "\n",
        "  html = direction_test_dashboard(WD_test, style)\n",
        "  direc_test = HTML(html)\n",
        "\n",
        "  html = direction_prediction_dashboard(WD_test, WD_pred, WD_base, style)\n",
        "  direc_pred = HTML(html)\n",
        "\n",
        "  speed_plot = Output(layout=Layout(display=\"flex\", justify_content=\"center\"))\n",
        "  with speed_plot:\n",
        "    plot_wind_speed(test_year, WS_pred_unscaled, WS_test_unscaled, WS_base_unscaled, pred_steps)\n",
        "\n",
        "  direc_plot = Output(layout=Layout(display=\"flex\", justify_content=\"center\"))\n",
        "  with direc_plot:\n",
        "    plot_wind_direction(test_year, WD_pred, WD_test, WD_base, pred_steps)\n",
        "\n",
        "  \n",
        "  wind = show_winds(WS_test_scaled, WD_test, WS_pred_scaled, WD_pred, title=title)\n",
        "    \n",
        "  grid[1,:] = header\n",
        "  grid[2:5,1:20] = speed_test\n",
        "  grid[6:10,1:20] = speed_pred\n",
        "\n",
        "  grid[2:5,21:40] = direc_test\n",
        "  grid[6:10,21:40] = direc_pred\n",
        "\n",
        "  grid[11:18, 1:40] = speed_plot\n",
        "  grid[19:30, 1:40] = direc_plot\n",
        "\n",
        "  display(grid)\n",
        "\n",
        "  return wind"
      ]
    },
    {
      "cell_type": "markdown",
      "metadata": {
        "id": "AHNuXRGtI2kD"
      },
      "source": [
        "# Functions for parameters input and program launching"
      ]
    },
    {
      "cell_type": "code",
      "execution_count": null,
      "metadata": {
        "id": "Wi0U8JUFWMN4"
      },
      "outputs": [],
      "source": [
        "def input_panel():\n",
        "\n",
        "  html = '<div style=\"font-size: 30px; font-weight: bold; color: black;\"><center> WIND PREDICTION PARAMETERS </center></div>'\n",
        "  header = HTML(html)\n",
        "\n",
        "  html = '<div style=\"font-size: 15px; color: blue; font-weight: bold;\"> Select location for wind prediction </div>'\n",
        "  title_locations = HTML(html)\n",
        "\n",
        "  locations = {}\n",
        "  locations[0] = (\"Not selected\", 0, 0)\n",
        "  locations[1] = (\"Łódź N-51.7666 E-19.4604\", 51.7666, 19.4604)\n",
        "  locations[2] = (\"Katowice N-50.2602 E-19.0321\", 50.2602, 19.0321)\n",
        "  locations[3] = (\"Gdynia N-54.5223 E-18.5486\", 54.5223, 18.5486)\n",
        "  locations[4] = (\"Bałtyk N-55.3326 E-18.0680\", 55.3326, 18.0680)\n",
        "  locations[5] = (\"Śniardwy N-53.7549 E-21.7179\", 53.7549, 21.7179)\n",
        "  locations[6] = (\"Puszcza Białowieska N-52.8026 E-23.8395\", 52.8026, 23.8395)\n",
        "  locations[7] = (\"Łysa Góra N-50.5137 E-21.0249\", 50.5137, 21.0249)\n",
        "  locations[8] = (\"Rysy N-49.1077 E-20.0528\", 49.1077, 20.0528)\n",
        "  locations[9] = (\"Orle Gniazda N-50.5637 E-19.5126\", 50.5637, 19.5126)\n",
        "  locations[10] = (\"Żuławy Wiślane N-54.1000 E-19.0000\", 54.1000, 19.0000)\n",
        "\n",
        "  options = []\n",
        "  for i in range(len(locations)):\n",
        "    options.append((locations[i][0], i))\n",
        "\n",
        "  list_locations = Dropdown(\n",
        "      options=options,\n",
        "      value=0,\n",
        "  )\n",
        "\n",
        "  html = '<div style=\"font-size: 15px; color: blue; font-weight: bold;\"> Or input coordinates </div>'\n",
        "  title_coordinates = HTML(html)\n",
        "\n",
        "  input_lat = FloatSlider(\n",
        "    value=54,\n",
        "    min=35,\n",
        "    max=71,\n",
        "    step=0.0001,\n",
        "    description='Latitude:',\n",
        "    disabled=False,\n",
        "    continuous_update=False,\n",
        "    orientation='horizontal',\n",
        "    readout=True,\n",
        "    readout_format='.4f',\n",
        "    layout=Layout(width=\"100%\")\n",
        "  )\n",
        "\n",
        "  input_lon = FloatSlider(\n",
        "    value=3,\n",
        "    min=0,\n",
        "    max=24,\n",
        "    step=0.0001,\n",
        "    description='Longitude:',\n",
        "    disabled=False,\n",
        "    continuous_update=False,\n",
        "    orientation='horizontal',\n",
        "    readout=True,\n",
        "    readout_format='.4f',\n",
        "    layout=Layout(width=\"100%\")\n",
        "  )\n",
        "\n",
        "  html = '<div style=\"font-size: 15px; color: blue; font-weight: bold;\"> Select years for prediction </div>'\n",
        "  title_years = HTML(html)\n",
        "\n",
        "  input_train = Dropdown(\n",
        "    options=[y for y in range(1989, 2019)],\n",
        "    value=2017,\n",
        "    description='Training:'\n",
        "  )\n",
        "\n",
        "  input_test = Dropdown(\n",
        "    options=[y for y in range(1989, 2019)],\n",
        "    value=2018,\n",
        "    description='Testing:'\n",
        "  )\n",
        "\n",
        "  enter = Button(\n",
        "    description='Get data',\n",
        "    disabled=False,\n",
        "    button_style='', # 'success', 'info', 'warning', 'danger' or ''\n",
        "    tooltip='Get data'\n",
        ")\n",
        "\n",
        "  grid = GridspecLayout(10, 10)\n",
        "\n",
        "  grid[1,:]   = header\n",
        "\n",
        "  grid[3,1:3] = title_locations\n",
        "  grid[3,4:6] = list_locations\n",
        "\n",
        "  grid[5,1:3] = title_coordinates\n",
        "  grid[5,4:6] = input_lat\n",
        "  grid[5,7:9] = input_lon\n",
        "\n",
        "  grid[7,1:3] = title_years\n",
        "  grid[7,4:6] = input_train\n",
        "  grid[7,7:9] = input_test\n",
        "\n",
        "  display(grid)\n",
        "\n",
        "  return locations, list_locations, input_lat, input_lon, input_train, input_test"
      ]
    },
    {
      "cell_type": "code",
      "execution_count": null,
      "metadata": {
        "id": "_rIi9AiwWLCG"
      },
      "outputs": [],
      "source": [
        "def get_input_params(locations, list_locations, input_lat, input_lon, input_train, input_test):\n",
        "  listloc = list_locations.value\n",
        "  if listloc==0:\n",
        "    lat = input_lat.value\n",
        "    lon = input_lon.value\n",
        "  else:\n",
        "    lat = locations[listloc][1]\n",
        "    lon = locations[listloc][2]\n",
        "  train_yr = input_train.value\n",
        "  test_yr = input_test.value\n",
        "\n",
        "  params={}\n",
        "  params['LAT']=lat\n",
        "  params['LON']=lon\n",
        "  params['TRAIN-YEAR']=train_yr\n",
        "  params['TEST-YEAR']=test_yr\n",
        "  \n",
        "  return params"
      ]
    },
    {
      "cell_type": "code",
      "execution_count": null,
      "metadata": {
        "id": "Wca-7yt0Ji3b"
      },
      "outputs": [],
      "source": [
        "def run_program(locations, list_locations, input_lat, input_lon, input_train, input_test):\n",
        "\n",
        "  params = get_input_params(locations, list_locations, input_lat, input_lon, input_train, input_test)\n",
        "\n",
        "  radius_km = 23  # around location of prediction\n",
        "\n",
        "  dataset_train = get_wind_data(params['LAT'], params['LON'], radius_km, params['TRAIN-YEAR'], \"LOADING TRAINING DATA\")\n",
        "  dataset_test = get_wind_data(params['LAT'], params['LON'], radius_km, params['TEST-YEAR'], \"LOADING TESTING DATA\")\n",
        "\n",
        "  df_train_prep = prepare_dataframe(dataset_train, \"PREPROCESSING TRAINING DATA\")\n",
        "  df_test_prep = prepare_dataframe(dataset_test, \"PREPROCESSING TESTING DATA\")\n",
        "\n",
        "  y_node = (7, 7) # center of nodes matrix, selected location\n",
        "\n",
        "  df_train_1, df_train_3, df_train_6, df_train_12 = create_prediction_datasets(df_train_prep, y_node, \"PREPARING TRAINING DATASETS\")\n",
        "  df_test_1, df_test_3, df_test_6, df_test_12, base_1, base_3, base_6, base_12 = create_prediction_datasets(df_test_prep, y_node, \"PREPARING TESTING DATASETS\", baseline=True)\n",
        "\n",
        "  anim_list=[]\n",
        "\n",
        "  # making and showing predictions for 1.5 hour ahead (3 steps)\n",
        "  WS_pred_unscaled, WS_test_unscaled, WS_base_unscaled, WS_pred_scaled, WS_test_scaled, WS_base_scaled, WD_pred, WD_test, WD_base = predictions_1p5_h(df_train_1, df_test_1, base_1, title=\"1.5 hours prediction\")\n",
        "  anim = show_dashboard(WS_pred_unscaled, WS_test_unscaled, WS_base_unscaled, WS_pred_scaled, WS_test_scaled, WS_base_scaled, WD_pred, WD_test, WD_base, params['TEST-YEAR'], 3, title=\"1.5 hours ahead\")\n",
        "  anim_list.append(anim)\n",
        "\n",
        "  # making and showing predictions for 3 hours ahead (6 steps)\n",
        "  WS_pred_unscaled, WS_test_unscaled, WS_base_unscaled, WS_pred_scaled, WS_test_scaled, WS_base_scaled, WD_pred, WD_test, WD_base = predictions_3_h(df_train_3, df_test_3, base_3, title=\"3 hours prediction\")\n",
        "  anim = show_dashboard(WS_pred_unscaled, WS_test_unscaled, WS_base_unscaled, WS_pred_scaled, WS_test_scaled, WS_base_scaled, WD_pred, WD_test, WD_base, params['TEST-YEAR'], 6, title=\"3 hours ahead\")\n",
        "  anim_list.append(anim)\n",
        "\n",
        "  # making and showing predictions for 6 hours ahead (12 steps)\n",
        "  WS_pred_unscaled, WS_test_unscaled, WS_base_unscaled, WS_pred_scaled, WS_test_scaled, WS_base_scaled, WD_pred, WD_test, WD_base = predictions_6_h(df_train_6, df_test_6, base_6, title=\"6 hours prediction\")\n",
        "  anim = show_dashboard(WS_pred_unscaled, WS_test_unscaled, WS_base_unscaled, WS_pred_scaled, WS_test_scaled, WS_base_scaled, WD_pred, WD_test, WD_base, params['TEST-YEAR'], 12, title=\"6 hours ahead\")\n",
        "  anim_list.append(anim)\n",
        "\n",
        "  # making and showing predictions for 12 hours ahead (24 steps)\n",
        "  WS_pred_unscaled, WS_test_unscaled, WS_base_unscaled, WS_pred_scaled, WS_test_scaled, WS_base_scaled, WD_pred, WD_test, WD_base = predictions_12_h(df_train_12, df_test_12, base_12, title=\"12 hours prediction\")\n",
        "  anim = show_dashboard(WS_pred_unscaled, WS_test_unscaled, WS_base_unscaled, WS_pred_scaled, WS_test_scaled, WS_base_scaled, WD_pred, WD_test, WD_base, params['TEST-YEAR'], 24, title=\"12 hours ahead\")\n",
        "  anim_list.append(anim)\n",
        "  \n",
        "  return anim_list\n"
      ]
    },
    {
      "cell_type": "markdown",
      "metadata": {
        "id": "gc8yfmTBICdd"
      },
      "source": [
        "# Program launching"
      ]
    },
    {
      "cell_type": "code",
      "source": [
        "locations, list_locations, input_lat, input_lon, input_train, input_test = input_panel()"
      ],
      "metadata": {
        "id": "cDK-GU2Z3Ajy"
      },
      "execution_count": null,
      "outputs": []
    },
    {
      "cell_type": "code",
      "source": [
        "anim_list = run_program(locations, list_locations, input_lat, input_lon, input_train, input_test)"
      ],
      "metadata": {
        "id": "g2SPRG8E3DnZ"
      },
      "execution_count": null,
      "outputs": []
    },
    {
      "cell_type": "code",
      "source": [
        "anim_list[0]"
      ],
      "metadata": {
        "id": "IY3d-Rpv3GfJ"
      },
      "execution_count": null,
      "outputs": []
    },
    {
      "cell_type": "code",
      "source": [
        "anim_list[1]"
      ],
      "metadata": {
        "id": "1yrT6-qr3I25"
      },
      "execution_count": null,
      "outputs": []
    },
    {
      "cell_type": "code",
      "source": [
        "anim_list[2]"
      ],
      "metadata": {
        "id": "rqUtlVlw3LhJ"
      },
      "execution_count": null,
      "outputs": []
    },
    {
      "cell_type": "code",
      "source": [
        "anim_list[3]"
      ],
      "metadata": {
        "id": "yLPIh86f3Oqx"
      },
      "execution_count": null,
      "outputs": []
    }
  ],
  "metadata": {
    "accelerator": "GPU",
    "colab": {
      "collapsed_sections": [],
      "toc_visible": true,
      "provenance": [],
      "authorship_tag": "ABX9TyOmLbhNaEr1xf0nIH6vs50Q",
      "include_colab_link": true
    },
    "kernelspec": {
      "display_name": "Python 3",
      "name": "python3"
    },
    "language_info": {
      "name": "python"
    }
  },
  "nbformat": 4,
  "nbformat_minor": 0
}